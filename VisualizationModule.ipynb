{
 "cells": [
  {
   "cell_type": "code",
   "execution_count": 610,
   "metadata": {},
   "outputs": [],
   "source": [
    "import pandas as pd\n",
    "import seaborn as sns"
   ]
  },
  {
   "cell_type": "code",
   "execution_count": 611,
   "metadata": {},
   "outputs": [],
   "source": [
    "def emergency_houses_in_regions(path, region):\n",
    "    row_df = pd.read_csv(path, sep=';')\n",
    "    df = row_df[['id', 'formalname_region', 'formalname_city', 'is_alarm', 'electrical_type', 'heating_type', 'firefighting_type']]\n",
    "    df = df.query(\"formalname_region == @region\")\n",
    "    count_emergency_houses = df.groupby(['formalname_city', 'is_alarm']).agg({'id' : 'count'}).reset_index() \\\n",
    "        .rename(columns={'id' : 'count_emergency_houses'}) \\\n",
    "        .query(\"is_alarm == 'Да'\")\n",
    "    df = df.groupby(['formalname_city']).agg({'id' : 'count'}).reset_index()\n",
    "    df = df.sort_values('id', ascending=False).head(7)\n",
    "    df = df.merge(count_emergency_houses, how='inner', on='formalname_city').drop(['is_alarm'], axis=1)\n",
    "    df['percent'] = 100 * df['count_emergency_houses'] / df['id']\n",
    "    df = df.sort_values('percent', ascending=False)\n",
    "    g = sns.catplot(x=\"formalname_city\", y=\"percent\", data=df, height=6, kind=\"bar\", palette=\"muted\")\n",
    "    g.set_ylabels('Процент аварийных домов')\n",
    "    g.set_xlabels('Названия населенных пунктов')\n",
    "    g.fig.set_size_inches(8, 5)\n",
    "    g.savefig('output.png')    "
   ]
  },
  {
   "cell_type": "code",
   "execution_count": 612,
   "metadata": {},
   "outputs": [],
   "source": [
    "def emergency_houses():\n",
    "    row_df = pd.read_csv('C:\\\\Мои документы\\\\export-reestrmkd-24-20190601.csv', sep=';')\n",
    "    row_df = pd.concat([row_df, pd.read_csv('C:\\\\Мои документы\\\\export-reestrmkd-23-20190601.csv', sep=';')])\n",
    "    row_df = pd.concat([row_df, pd.read_csv('C:\\\\Мои документы\\\\export-reestrmkd-34-20190601.csv', sep=';')])\n",
    "    row_df = pd.concat([row_df, pd.read_csv('C:\\\\Мои документы\\\\export-reestrmkd-70-20190601.csv', sep=';')])\n",
    "    df = row_df[['id', 'formalname_region', 'formalname_city', 'is_alarm', 'electrical_type', 'heating_type', 'firefighting_type']]\n",
    "    df = row_df[['id', 'formalname_region', 'formalname_city', 'is_alarm', 'electrical_type', 'heating_type', 'firefighting_type']]\n",
    "    count_emergency_houses = df.groupby(['formalname_region', 'is_alarm']).agg({'id' : 'count'}).reset_index() \\\n",
    "        .rename(columns={'id' : 'count_emergency_houses'}) \\\n",
    "        .query(\"is_alarm == 'Да'\")\n",
    "    df = df.groupby(['formalname_region']).agg({'id' : 'count'}).reset_index().query(\"id > 1000\")\n",
    "    df = df.merge(count_emergency_houses, how='inner', on='formalname_region').drop(['is_alarm'], axis=1)\n",
    "    df['percent'] = 100 * df['count_emergency_houses'] / df['id']\n",
    "    df = df.sort_values('percent', ascending=False)\n",
    "    g = sns.catplot(x=\"formalname_region\", y=\"percent\", data=df, height=6, kind=\"bar\", palette=\"muted\")\n",
    "    g.set_ylabels('Процент аварийных домов')\n",
    "    g.set_xlabels('Названия регионов')\n",
    "    g.fig.set_size_inches(11, 5)\n",
    "    g.savefig('output.png')    "
   ]
  },
  {
   "cell_type": "code",
   "execution_count": 613,
   "metadata": {},
   "outputs": [],
   "source": [
    "def management_companies(path, top):\n",
    "    df = pd.read_csv(path, sep=';')\n",
    "    df = df[['subject_rf', 'name_short', 'w_summ']]\n",
    "    df = df.sort_values('w_summ', ascending=top).head(5)\n",
    "    for i in range(len(df)):\n",
    "        df.w_summ.iloc[i] = df.w_summ.iloc[i].replace(',', '.')\n",
    "    df.w_summ = pd.to_numeric(df.w_summ)    \n",
    "    g = sns.catplot(x=\"name_short\", y=\"w_summ\", data=df, height=6, kind=\"bar\", palette=\"muted\")\n",
    "    g.set_ylabels('Рейтинг')\n",
    "    g.set_xlabels('Название компаний')\n",
    "    g.fig.set_size_inches(12, 5)\n",
    "    g.savefig('output.png')    "
   ]
  },
  {
   "cell_type": "code",
   "execution_count": null,
   "metadata": {},
   "outputs": [],
   "source": []
  }
 ],
 "metadata": {
  "kernelspec": {
   "display_name": "Python 3",
   "language": "python",
   "name": "python3"
  },
  "language_info": {
   "codemirror_mode": {
    "name": "ipython",
    "version": 3
   },
   "file_extension": ".py",
   "mimetype": "text/x-python",
   "name": "python",
   "nbconvert_exporter": "python",
   "pygments_lexer": "ipython3",
   "version": "3.7.3"
  }
 },
 "nbformat": 4,
 "nbformat_minor": 2
}
